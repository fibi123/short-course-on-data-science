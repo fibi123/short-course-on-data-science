{
  "cells": [
    {
      "cell_type": "markdown",
      "metadata": {
        "id": "ZccNy8KfmoIg"
      },
      "source": [
        "### **Python Basics**"
      ]
    },
    {
      "cell_type": "markdown",
      "metadata": {
        "id": "B0bdIFk4moIk"
      },
      "source": [
        "### Printing, Variables, Arithmetic"
      ]
    },
    {
      "cell_type": "code",
      "execution_count": null,
      "metadata": {
        "id": "SyPVFF8ImoIl",
        "outputId": "00ca5cd3-af6d-41d8-db70-21e2b50621e5",
        "colab": {
          "base_uri": "https://localhost:8080/"
        }
      },
      "outputs": [
        {
          "output_type": "stream",
          "name": "stdout",
          "text": [
            "I already love Python\n",
            "There \n",
            "is more\n"
          ]
        }
      ],
      "source": [
        "# Print\n",
        "print('I already love Python')\n",
        "\n",
        "print('There \\nis more')"
      ]
    },
    {
      "cell_type": "code",
      "execution_count": null,
      "metadata": {
        "id": "tLcjp9OGmoIm",
        "colab": {
          "base_uri": "https://localhost:8080/"
        },
        "outputId": "81ba1c2c-74d5-4064-d811-1560cdeadbae"
      },
      "outputs": [
        {
          "output_type": "stream",
          "name": "stdout",
          "text": [
            "10\n",
            "5\n"
          ]
        }
      ],
      "source": [
        "# Variables and assignment\n",
        "a = 10\n",
        "print(a)\n",
        "b = 5\n",
        "print(b)"
      ]
    },
    {
      "cell_type": "code",
      "execution_count": null,
      "metadata": {
        "id": "Wv91lvmUmoIm",
        "colab": {
          "base_uri": "https://localhost:8080/"
        },
        "outputId": "44502271-e39e-4e01-dc4c-b65416887896"
      },
      "outputs": [
        {
          "output_type": "stream",
          "name": "stdout",
          "text": [
            "15\n",
            "-5\n",
            "50\n",
            "0.5\n"
          ]
        }
      ],
      "source": [
        "# Arithmetic\n",
        "# Note variable values persist from previous cell\n",
        "print(a + b)\n",
        "print(b - a)\n",
        "print(a * b)\n",
        "print(b / a)"
      ]
    },
    {
      "cell_type": "code",
      "execution_count": null,
      "metadata": {
        "id": "NbZw4iv8moIm",
        "colab": {
          "base_uri": "https://localhost:8080/"
        },
        "outputId": "16668242-2f13-4928-811e-f0a8804dbb84"
      },
      "outputs": [
        {
          "output_type": "stream",
          "name": "stdout",
          "text": [
            "15\n"
          ]
        }
      ],
      "source": [
        "# Update\n",
        "a = a + b\n",
        "print(a)"
      ]
    },
    {
      "cell_type": "code",
      "source": [
        "c = 4\n",
        "d = 2\n"
      ],
      "metadata": {
        "id": "dgc0OYke7sub"
      },
      "execution_count": null,
      "outputs": []
    },
    {
      "cell_type": "code",
      "source": [
        "#increment must be written in new code block\n",
        "c  += d\n",
        "print (c, type(c))\n",
        "print(d, type(d))\n",
        "print(c)"
      ],
      "metadata": {
        "colab": {
          "base_uri": "https://localhost:8080/"
        },
        "id": "y0vmWxLv8QL0",
        "outputId": "0262d283-f490-44f2-def3-91b8e22983fd"
      },
      "execution_count": null,
      "outputs": [
        {
          "output_type": "stream",
          "name": "stdout",
          "text": [
            "6 <class 'int'>\n",
            "2 <class 'int'>\n",
            "6\n"
          ]
        }
      ]
    },
    {
      "cell_type": "code",
      "execution_count": null,
      "metadata": {
        "id": "3rJcJprsmoIn",
        "colab": {
          "base_uri": "https://localhost:8080/"
        },
        "outputId": "aaae6f1d-ef7a-4e68-de2d-8a3a87c3530d"
      },
      "outputs": [
        {
          "output_type": "stream",
          "name": "stdout",
          "text": [
            "20\n"
          ]
        }
      ],
      "source": [
        "# Increment\n",
        "a += b\n",
        "print(a)"
      ]
    },
    {
      "cell_type": "markdown",
      "metadata": {
        "id": "WPKqfhtkmoIn"
      },
      "source": [
        "### Types"
      ]
    },
    {
      "cell_type": "code",
      "execution_count": null,
      "metadata": {
        "id": "-tTH-84ymoIo",
        "colab": {
          "base_uri": "https://localhost:8080/"
        },
        "outputId": "b9d33953-c8f5-4125-b084-5c65ce30c4eb"
      },
      "outputs": [
        {
          "output_type": "stream",
          "name": "stdout",
          "text": [
            "<class 'int'>\n",
            "<class 'str'>\n",
            "<class 'float'>\n"
          ]
        }
      ],
      "source": [
        "# Dynamically-inferred types\n",
        "a = 10\n",
        "print(type(a))\n",
        "a = '10'\n",
        "print(type(a))\n",
        "a = 10.0\n",
        "print(type(a))"
      ]
    },
    {
      "cell_type": "code",
      "execution_count": null,
      "metadata": {
        "id": "MU7PVxtnmoIo",
        "colab": {
          "base_uri": "https://localhost:8080/",
          "height": 176
        },
        "outputId": "87aae6da-e33c-42b9-c315-46adb4524ec5"
      },
      "outputs": [
        {
          "output_type": "error",
          "ename": "TypeError",
          "evalue": "unsupported operand type(s) for +: 'int' and 'str'",
          "traceback": [
            "\u001b[0;31m---------------------------------------------------------------------------\u001b[0m",
            "\u001b[0;31mTypeError\u001b[0m                                 Traceback (most recent call last)",
            "\u001b[0;32m<ipython-input-9-1d1de165a119>\u001b[0m in \u001b[0;36m<cell line: 4>\u001b[0;34m()\u001b[0m\n\u001b[1;32m      2\u001b[0m \u001b[0ma\u001b[0m \u001b[0;34m=\u001b[0m \u001b[0;36m10\u001b[0m\u001b[0;34m\u001b[0m\u001b[0;34m\u001b[0m\u001b[0m\n\u001b[1;32m      3\u001b[0m \u001b[0mb\u001b[0m \u001b[0;34m=\u001b[0m \u001b[0;34m'5'\u001b[0m\u001b[0;34m\u001b[0m\u001b[0;34m\u001b[0m\u001b[0m\n\u001b[0;32m----> 4\u001b[0;31m \u001b[0mprint\u001b[0m\u001b[0;34m(\u001b[0m\u001b[0ma\u001b[0m \u001b[0;34m+\u001b[0m \u001b[0mb\u001b[0m\u001b[0;34m)\u001b[0m\u001b[0;34m\u001b[0m\u001b[0;34m\u001b[0m\u001b[0m\n\u001b[0m",
            "\u001b[0;31mTypeError\u001b[0m: unsupported operand type(s) for +: 'int' and 'str'"
          ]
        }
      ],
      "source": [
        "# Type-checking\n",
        "a = 10\n",
        "b = '5'\n",
        "print(a + b)"
      ]
    },
    {
      "cell_type": "code",
      "source": [
        "#doing manual type conversion\n",
        "\n",
        "a = 10\n",
        "b = '20.3'\n",
        "print (a+ float(b))\n"
      ],
      "metadata": {
        "colab": {
          "base_uri": "https://localhost:8080/"
        },
        "id": "IuiCf6zROZZj",
        "outputId": "ce2ef21e-604a-4d56-c546-0d3118b97090"
      },
      "execution_count": null,
      "outputs": [
        {
          "output_type": "stream",
          "name": "stdout",
          "text": [
            "30.3\n"
          ]
        }
      ]
    },
    {
      "cell_type": "code",
      "execution_count": null,
      "metadata": {
        "id": "cIxuGr23moIp",
        "colab": {
          "base_uri": "https://localhost:8080/"
        },
        "outputId": "bb38466e-5c08-4987-acdd-45c8a345ddc2"
      },
      "outputs": [
        {
          "output_type": "stream",
          "name": "stdout",
          "text": [
            "102\n",
            "5 <class 'str'>\n"
          ]
        },
        {
          "output_type": "execute_result",
          "data": {
            "text/plain": [
              "97"
            ]
          },
          "metadata": {},
          "execution_count": 11
        }
      ],
      "source": [
        "# Manual type-conversion (string to int)\n",
        "a = 10\n",
        "b = '5'\n",
        "night = ord('a') #ord prints out the ASCII character of an alphabet\n",
        "print(ord('a') + int(b))\n",
        "print(b, type(b))\n",
        "night"
      ]
    },
    {
      "cell_type": "code",
      "execution_count": null,
      "metadata": {
        "id": "nUq9Bn9cmoIp",
        "colab": {
          "base_uri": "https://localhost:8080/"
        },
        "outputId": "0187e795-8240-44ad-f74e-a7d1961a1136"
      },
      "outputs": [
        {
          "output_type": "stream",
          "name": "stdout",
          "text": [
            "<class 'int'>\n",
            "15.0 <class 'float'>\n"
          ]
        }
      ],
      "source": [
        "# Automatic type-conversion (int to float)\n",
        "a = 10\n",
        "print(type(a))\n",
        "a += 5.0\n",
        "print(a, type(a))"
      ]
    },
    {
      "cell_type": "code",
      "execution_count": null,
      "metadata": {
        "id": "ahRVOgtPmoIp",
        "colab": {
          "base_uri": "https://localhost:8080/"
        },
        "outputId": "26807af8-f5ac-47ed-83a4-ae19cd3b4e4e"
      },
      "outputs": [
        {
          "output_type": "stream",
          "name": "stdout",
          "text": [
            "Professor Widom\n",
            "Professor is good\n"
          ]
        }
      ],
      "source": [
        "# String \"arithmetic\" (actually concatenation)\n",
        "a = 'Professor '\n",
        "b = 'Widom'\n",
        "print(a + b)\n",
        "print(a + 'is good')"
      ]
    },
    {
      "cell_type": "markdown",
      "metadata": {
        "id": "qZF63pgemoIq"
      },
      "source": [
        "### Conditional (If) Statements"
      ]
    },
    {
      "cell_type": "code",
      "execution_count": null,
      "metadata": {
        "id": "hTyrmnPimoIq"
      },
      "outputs": [],
      "source": [
        "# If statements\n",
        "# Unlike other languages, indentation is significant\n",
        "a = 8\n",
        "if a > 10:\n",
        "    print(a, 'is greater than 10')\n",
        "    if a >= 15:\n",
        "        print(a, 'is also at least 15')\n",
        "elif a > 5:\n",
        "    print(a, 'is greater than 5 but not greater than 10')\n",
        "else:\n",
        "    print('no condition matched')\n",
        "    print('so a is 5 or less')"
      ]
    },
    {
      "cell_type": "code",
      "source": [
        "# my little practice :')\n",
        "x = input('Enter number:')\n",
        "y = int(x)\n",
        "if y>5:\n",
        "  y += 90\n",
        "  print('The new number is greater than 95:', y )\n",
        "  if y >120:\n",
        "    print ('The new number is also greater than 120:', y)\n",
        "else:\n",
        "  print('The original number was smaller than 5 and 120. It is:', y )\n"
      ],
      "metadata": {
        "id": "xfnDzPYc-QbS"
      },
      "execution_count": null,
      "outputs": []
    },
    {
      "cell_type": "markdown",
      "metadata": {
        "id": "7c8QCKpAmoIq"
      },
      "source": [
        "### <font color = 'green'>**Your Turn**</font>"
      ]
    },
    {
      "cell_type": "code",
      "execution_count": null,
      "metadata": {
        "id": "0mUlzLXymoIr",
        "colab": {
          "base_uri": "https://localhost:8080/"
        },
        "outputId": "3091607f-cfcf-4375-f0d0-358e3f6690b9"
      },
      "outputs": [
        {
          "output_type": "stream",
          "name": "stdout",
          "text": [
            "Enter a value: 5\n",
            "too small to bother with\n"
          ]
        }
      ],
      "source": [
        "# Write a program that starts with a number assigned to variable a.\n",
        "# If the square of that number is 100 or greater,\n",
        "# print the squared value and 'is big'.\n",
        "# Otherwise if the square is 50 or greater,\n",
        "# print the squared value 'is medium'.\n",
        "# Otherwise just print 'too small to bother with'.\n",
        "# Note: To obtain a value squared, use a*a or a**2\n",
        "# Make sure to try different values for a\n",
        "#\n",
        "c = input('Enter a value: ')\n",
        "a = int(c)\n",
        "if (a**2)>100:\n",
        "  print('is big')\n",
        "elif (a**2)>50:\n",
        "  print('is medium')\n",
        "else:\n",
        "  print('too small to bother with')"
      ]
    },
    {
      "cell_type": "markdown",
      "metadata": {
        "id": "ZTj0lnN-moIr"
      },
      "source": [
        "### Lists and For-Loops"
      ]
    },
    {
      "cell_type": "code",
      "execution_count": null,
      "metadata": {
        "id": "ZegOA-xwmoIr",
        "colab": {
          "base_uri": "https://localhost:8080/"
        },
        "outputId": "1fbc8ec2-b622-472f-f06f-6bdde5cc7216"
      },
      "outputs": [
        {
          "output_type": "stream",
          "name": "stdout",
          "text": [
            "[2, 4, 7, 9]\n",
            "<class 'list'>\n",
            "4\n"
          ]
        }
      ],
      "source": [
        "# List\n",
        "a = [2, 4, 7, 9]\n",
        "print(a)\n",
        "print(type(a))\n",
        "print(len(a))"
      ]
    },
    {
      "cell_type": "code",
      "source": [
        "a"
      ],
      "metadata": {
        "id": "3SjW12cvq5TZ",
        "colab": {
          "base_uri": "https://localhost:8080/"
        },
        "outputId": "d53f19eb-d32c-406b-e368-04c0931e5356"
      },
      "execution_count": null,
      "outputs": [
        {
          "output_type": "execute_result",
          "data": {
            "text/plain": [
              "[2, 4, 7, 9]"
            ]
          },
          "metadata": {},
          "execution_count": 16
        }
      ]
    },
    {
      "cell_type": "code",
      "execution_count": null,
      "metadata": {
        "id": "m7C2zmTAmoIr",
        "colab": {
          "base_uri": "https://localhost:8080/"
        },
        "outputId": "351094d0-e64f-4ab9-b9b3-75100dd7e531"
      },
      "outputs": [
        {
          "output_type": "stream",
          "name": "stdout",
          "text": [
            "2 4\n",
            "4 8\n",
            "7 14\n",
            "9 18\n"
          ]
        }
      ],
      "source": [
        "# Iterate through a list\n",
        "for x in a:\n",
        "    print(x, 2 * x)"
      ]
    },
    {
      "cell_type": "code",
      "execution_count": null,
      "metadata": {
        "id": "SXGIQMa9moIr",
        "colab": {
          "base_uri": "https://localhost:8080/"
        },
        "outputId": "6d8e8ebc-ab12-43ea-c4a7-800da9fb13d5"
      },
      "outputs": [
        {
          "output_type": "stream",
          "name": "stdout",
          "text": [
            "4\n",
            "9\n"
          ]
        }
      ],
      "source": [
        "# Access element by index (starts at zero)\n",
        "print(a[1])\n",
        "print(a[3])\n",
        "# Try a[5]"
      ]
    },
    {
      "cell_type": "code",
      "execution_count": null,
      "metadata": {
        "id": "ZzOb3bCXmoIs",
        "colab": {
          "base_uri": "https://localhost:8080/"
        },
        "outputId": "8603485b-d875-4890-a65a-52f3956f80e8"
      },
      "outputs": [
        {
          "output_type": "stream",
          "name": "stdout",
          "text": [
            "[2, 4]\n",
            "[4, 7, 9, 12, 14]\n",
            "[4, 7]\n"
          ]
        }
      ],
      "source": [
        "# Prefix, suffix, and section of list\n",
        "# Prefix: Elements from the beginning up to index 2 (excluding index 2)\n",
        "print(a[:2])\n",
        "# Suffix: Elements from index 1 to the end\n",
        "print(a[1:])\n",
        "# Section: Elements from index 1 to index 3 (excluding index 3)\n",
        "print(a[1:3])"
      ]
    },
    {
      "cell_type": "code",
      "execution_count": null,
      "metadata": {
        "id": "0HjM9gg-moIs",
        "colab": {
          "base_uri": "https://localhost:8080/"
        },
        "outputId": "5552bccf-cbd0-42a4-ab0d-b281f04a052d"
      },
      "outputs": [
        {
          "output_type": "stream",
          "name": "stdout",
          "text": [
            "[2, 4, 7, 9, 12, 14, 12, 14]\n"
          ]
        }
      ],
      "source": [
        "# Append to list, append means adding to the list\n",
        "a.append(12)\n",
        "a.append(14)\n",
        "print(a)"
      ]
    },
    {
      "cell_type": "code",
      "execution_count": null,
      "metadata": {
        "id": "xmAUJBVRmoIs",
        "colab": {
          "base_uri": "https://localhost:8080/",
          "height": 176
        },
        "outputId": "3ac3e816-ee04-45ee-a6f5-53389477af56"
      },
      "outputs": [
        {
          "output_type": "error",
          "ename": "NameError",
          "evalue": "name 'a' is not defined",
          "traceback": [
            "\u001b[0;31m---------------------------------------------------------------------------\u001b[0m",
            "\u001b[0;31mNameError\u001b[0m                                 Traceback (most recent call last)",
            "\u001b[0;32m<ipython-input-7-acc97ecaa24a>\u001b[0m in \u001b[0;36m<cell line: 2>\u001b[0;34m()\u001b[0m\n\u001b[1;32m      1\u001b[0m \u001b[0;31m# Combine two lists\u001b[0m\u001b[0;34m\u001b[0m\u001b[0;34m\u001b[0m\u001b[0m\n\u001b[0;32m----> 2\u001b[0;31m \u001b[0ma\u001b[0m \u001b[0;34m=\u001b[0m \u001b[0ma\u001b[0m \u001b[0;34m+\u001b[0m \u001b[0;34m[\u001b[0m\u001b[0;36m15\u001b[0m\u001b[0;34m,\u001b[0m \u001b[0;36m20\u001b[0m\u001b[0;34m,\u001b[0m \u001b[0;36m30\u001b[0m\u001b[0;34m]\u001b[0m\u001b[0;34m\u001b[0m\u001b[0;34m\u001b[0m\u001b[0m\n\u001b[0m\u001b[1;32m      3\u001b[0m \u001b[0mprint\u001b[0m\u001b[0;34m(\u001b[0m\u001b[0ma\u001b[0m\u001b[0;34m)\u001b[0m\u001b[0;34m\u001b[0m\u001b[0;34m\u001b[0m\u001b[0m\n",
            "\u001b[0;31mNameError\u001b[0m: name 'a' is not defined"
          ]
        }
      ],
      "source": [
        "# Combine two lists\n",
        "a = a + [15, 20, 30]\n",
        "print(a)"
      ]
    },
    {
      "cell_type": "code",
      "source": [
        "#using\n",
        "c = range(3,8)\n",
        "print(c)\n",
        "len(b)\n",
        "b = [21,14,83,72,34]\n",
        "print(range(len(b)))\n",
        "index = 0\n",
        "for x in b:\n",
        "  print(x, index)\n",
        "  index +=1\n"
      ],
      "metadata": {
        "colab": {
          "base_uri": "https://localhost:8080/",
          "height": 228
        },
        "id": "p-7L_ZHv6AwG",
        "outputId": "e8147c67-7834-4a5f-f841-c13b58928e16"
      },
      "execution_count": null,
      "outputs": [
        {
          "output_type": "stream",
          "name": "stdout",
          "text": [
            "range(3, 8)\n"
          ]
        },
        {
          "output_type": "error",
          "ename": "NameError",
          "evalue": "name 'b' is not defined",
          "traceback": [
            "\u001b[0;31m---------------------------------------------------------------------------\u001b[0m",
            "\u001b[0;31mNameError\u001b[0m                                 Traceback (most recent call last)",
            "\u001b[0;32m<ipython-input-6-72050f563560>\u001b[0m in \u001b[0;36m<cell line: 4>\u001b[0;34m()\u001b[0m\n\u001b[1;32m      2\u001b[0m \u001b[0mc\u001b[0m \u001b[0;34m=\u001b[0m \u001b[0mrange\u001b[0m\u001b[0;34m(\u001b[0m\u001b[0;36m3\u001b[0m\u001b[0;34m,\u001b[0m\u001b[0;36m8\u001b[0m\u001b[0;34m)\u001b[0m\u001b[0;34m\u001b[0m\u001b[0;34m\u001b[0m\u001b[0m\n\u001b[1;32m      3\u001b[0m \u001b[0mprint\u001b[0m\u001b[0;34m(\u001b[0m\u001b[0mc\u001b[0m\u001b[0;34m)\u001b[0m\u001b[0;34m\u001b[0m\u001b[0;34m\u001b[0m\u001b[0m\n\u001b[0;32m----> 4\u001b[0;31m \u001b[0mlen\u001b[0m\u001b[0;34m(\u001b[0m\u001b[0mb\u001b[0m\u001b[0;34m)\u001b[0m\u001b[0;34m\u001b[0m\u001b[0;34m\u001b[0m\u001b[0m\n\u001b[0m\u001b[1;32m      5\u001b[0m \u001b[0mb\u001b[0m \u001b[0;34m=\u001b[0m \u001b[0;34m[\u001b[0m\u001b[0;36m21\u001b[0m\u001b[0;34m,\u001b[0m\u001b[0;36m14\u001b[0m\u001b[0;34m,\u001b[0m\u001b[0;36m83\u001b[0m\u001b[0;34m,\u001b[0m\u001b[0;36m72\u001b[0m\u001b[0;34m,\u001b[0m\u001b[0;36m34\u001b[0m\u001b[0;34m]\u001b[0m\u001b[0;34m\u001b[0m\u001b[0;34m\u001b[0m\u001b[0m\n\u001b[1;32m      6\u001b[0m \u001b[0mprint\u001b[0m\u001b[0;34m(\u001b[0m\u001b[0mrange\u001b[0m\u001b[0;34m(\u001b[0m\u001b[0mlen\u001b[0m\u001b[0;34m(\u001b[0m\u001b[0mb\u001b[0m\u001b[0;34m)\u001b[0m\u001b[0;34m)\u001b[0m\u001b[0;34m)\u001b[0m\u001b[0;34m\u001b[0m\u001b[0;34m\u001b[0m\u001b[0m\n",
            "\u001b[0;31mNameError\u001b[0m: name 'b' is not defined"
          ]
        }
      ]
    },
    {
      "cell_type": "code",
      "source": [
        "#another way using range\n",
        "\n",
        "for index in range(len(b)):\n",
        "  number = b[index]\n",
        "  print(index, number)\n",
        "\n"
      ],
      "metadata": {
        "colab": {
          "base_uri": "https://localhost:8080/",
          "height": 211
        },
        "id": "T5u1kSy_ARjj",
        "outputId": "457f894d-70e5-444a-a77e-6dd5d2628c55"
      },
      "execution_count": null,
      "outputs": [
        {
          "output_type": "error",
          "ename": "NameError",
          "evalue": "name 'b' is not defined",
          "traceback": [
            "\u001b[0;31m---------------------------------------------------------------------------\u001b[0m",
            "\u001b[0;31mNameError\u001b[0m                                 Traceback (most recent call last)",
            "\u001b[0;32m<ipython-input-5-58319b2f06b4>\u001b[0m in \u001b[0;36m<cell line: 3>\u001b[0;34m()\u001b[0m\n\u001b[1;32m      1\u001b[0m \u001b[0;31m#another way using range\u001b[0m\u001b[0;34m\u001b[0m\u001b[0;34m\u001b[0m\u001b[0m\n\u001b[1;32m      2\u001b[0m \u001b[0;34m\u001b[0m\u001b[0m\n\u001b[0;32m----> 3\u001b[0;31m \u001b[0;32mfor\u001b[0m \u001b[0mindex\u001b[0m \u001b[0;32min\u001b[0m \u001b[0mrange\u001b[0m\u001b[0;34m(\u001b[0m\u001b[0mlen\u001b[0m\u001b[0;34m(\u001b[0m\u001b[0mb\u001b[0m\u001b[0;34m)\u001b[0m\u001b[0;34m)\u001b[0m\u001b[0;34m:\u001b[0m\u001b[0;34m\u001b[0m\u001b[0;34m\u001b[0m\u001b[0m\n\u001b[0m\u001b[1;32m      4\u001b[0m   \u001b[0mnumber\u001b[0m \u001b[0;34m=\u001b[0m \u001b[0mb\u001b[0m\u001b[0;34m[\u001b[0m\u001b[0mindex\u001b[0m\u001b[0;34m]\u001b[0m\u001b[0;34m\u001b[0m\u001b[0;34m\u001b[0m\u001b[0m\n\u001b[1;32m      5\u001b[0m   \u001b[0mprint\u001b[0m\u001b[0;34m(\u001b[0m\u001b[0mindex\u001b[0m\u001b[0;34m,\u001b[0m \u001b[0mnumber\u001b[0m\u001b[0;34m)\u001b[0m\u001b[0;34m\u001b[0m\u001b[0;34m\u001b[0m\u001b[0m\n",
            "\u001b[0;31mNameError\u001b[0m: name 'b' is not defined"
          ]
        }
      ]
    },
    {
      "cell_type": "code",
      "source": [
        "class Solution(object):\n",
        "    def twoSum(self, nums, target):\n",
        "        self.nums = nums\n",
        "        self.target = target\n",
        "\n",
        "    def showindex(self):\n",
        "      for index_x in range(len(self.nums)):\n",
        "        x = self.nums[index_x]\n",
        "        for index_y in range(index_x+1, len(self.nums)):\n",
        "                y = self.nums[index_y]\n",
        "                if((x+y)==self.target):\n",
        "                  print(index_x,index_y)\n",
        "\n",
        "obj1 = Solution()\n",
        "obj1.twoSum(nums=[2,7,11,15], target=9)\n",
        "obj1.showindex()\n"
      ],
      "metadata": {
        "colab": {
          "base_uri": "https://localhost:8080/"
        },
        "id": "3Bincx5q6Id9",
        "outputId": "63a49494-4537-448b-92ec-ed00e061edaf"
      },
      "execution_count": null,
      "outputs": [
        {
          "output_type": "stream",
          "name": "stdout",
          "text": [
            "0 1\n"
          ]
        }
      ]
    },
    {
      "cell_type": "code",
      "source": [],
      "metadata": {
        "colab": {
          "base_uri": "https://localhost:8080/"
        },
        "id": "uqhCBb8K6OH1",
        "outputId": "3220778b-629a-492c-ef76-ed07d2bde903"
      },
      "execution_count": null,
      "outputs": [
        {
          "output_type": "stream",
          "name": "stdout",
          "text": [
            "0 2\n"
          ]
        }
      ]
    },
    {
      "cell_type": "code",
      "execution_count": null,
      "metadata": {
        "id": "mv2m9zBnmoIs",
        "colab": {
          "base_uri": "https://localhost:8080/"
        },
        "outputId": "593a0092-6192-4ea8-ee4d-4bceaff0eb15"
      },
      "outputs": [
        {
          "output_type": "stream",
          "name": "stdout",
          "text": [
            "[1, 'two', 3.0, [4, 5, 6]]\n",
            "<class 'list'>\n",
            "<class 'int'> <class 'str'> <class 'float'> <class 'list'>\n"
          ]
        }
      ],
      "source": [
        "# List elements can be of different types\n",
        "a = [1, 'two', 3.0, [4,5,6]]\n",
        "print(a)\n",
        "print(type(a))\n",
        "print(type(a[0]), type(a[1]), type(a[2]), type (a[3]))"
      ]
    },
    {
      "cell_type": "markdown",
      "metadata": {
        "id": "eJXcVHICmoIs"
      },
      "source": [
        "### Dictionaries (key-value mappings)"
      ]
    },
    {
      "cell_type": "code",
      "execution_count": null,
      "metadata": {
        "id": "hj0EsT8bmoIt",
        "colab": {
          "base_uri": "https://localhost:8080/"
        },
        "outputId": "2854e91d-ce5f-402f-c15e-b0a375a6b0a0"
      },
      "outputs": [
        {
          "output_type": "stream",
          "name": "stdout",
          "text": [
            "{'name': 'Mary', 'age': 20, 'gender': 'F'}\n",
            "<class 'dict'>\n"
          ]
        }
      ],
      "source": [
        "# Dictionary\n",
        "a = {'name': 'Mary', 'age': 20, 'gender': 'F'}\n",
        "print(a)\n",
        "print(type(a))"
      ]
    },
    {
      "cell_type": "code",
      "execution_count": null,
      "metadata": {
        "id": "0jlO6xl7moIt",
        "colab": {
          "base_uri": "https://localhost:8080/"
        },
        "outputId": "fab3333b-427f-4b6a-cdca-eed4ced65dab"
      },
      "outputs": [
        {
          "output_type": "stream",
          "name": "stdout",
          "text": [
            "20\n",
            "F\n"
          ]
        }
      ],
      "source": [
        "# Look up value of element by key - most important feature!\n",
        "print(a['age'])\n",
        "print(a['gender'])\n",
        "# also try a['gender'], a['salary']"
      ]
    },
    {
      "cell_type": "code",
      "execution_count": null,
      "metadata": {
        "id": "6jtbUNLImoIt",
        "colab": {
          "base_uri": "https://localhost:8080/"
        },
        "outputId": "f7f966f6-3e82-4539-a415-c7b235fde45a"
      },
      "outputs": [
        {
          "output_type": "stream",
          "name": "stdout",
          "text": [
            "{'name': 'Mary', 'age': 21, 'gender': 'F'}\n"
          ]
        }
      ],
      "source": [
        "# Modify value\n",
        "a['age'] = 21\n",
        "print(a)"
      ]
    },
    {
      "cell_type": "code",
      "execution_count": null,
      "metadata": {
        "id": "KHMABIk1moIt",
        "colab": {
          "base_uri": "https://localhost:8080/"
        },
        "outputId": "89b27e7c-566c-419f-bdca-e79628da1d8c"
      },
      "outputs": [
        {
          "output_type": "stream",
          "name": "stdout",
          "text": [
            "John is old\n",
            "Bill is young\n",
            "Susan is old\n"
          ]
        }
      ],
      "source": [
        "# Iterating through a list of dictionaries\n",
        "dlist = [{'name':'Mary', 'age':20}, {'name':'John', 'age':30},\n",
        "         {'name':'Bill', 'age':10}, {'name':'Susan', 'age':40}]\n",
        "for x in dlist:\n",
        "    if x['age'] >= 30:\n",
        "        print(x['name'], 'is old')\n",
        "    if x['age'] < 20:\n",
        "        print(x['name'], 'is young')"
      ]
    },
    {
      "cell_type": "code",
      "execution_count": null,
      "metadata": {
        "id": "gTp40A6PmoIt",
        "colab": {
          "base_uri": "https://localhost:8080/"
        },
        "outputId": "92f2c3e5-743e-420f-d70b-c2460655445c"
      },
      "outputs": [
        {
          "output_type": "stream",
          "name": "stdout",
          "text": [
            "{'name': 'Mary', 'age': 21, 'gender': 'F', 'salary': 100}\n"
          ]
        }
      ],
      "source": [
        "# Add new key-value pair\n",
        "a['salary'] = 100\n",
        "print(a)"
      ]
    },
    {
      "cell_type": "markdown",
      "metadata": {
        "id": "7uxBmG3imoIu"
      },
      "source": [
        "### <font color = 'green'>**Your Turn**</font>"
      ]
    },
    {
      "cell_type": "code",
      "execution_count": null,
      "metadata": {
        "id": "15wlVL-3moIu",
        "colab": {
          "base_uri": "https://localhost:8080/"
        },
        "outputId": "e55f4a99-0929-460f-88f9-66ec30148a17"
      },
      "outputs": [
        {
          "output_type": "stream",
          "name": "stdout",
          "text": [
            "red\n",
            "yellow\n"
          ]
        }
      ],
      "source": [
        "# Here is a dataset of four items, represented as a list of\n",
        "# dictionaries specifying each item's color and size\n",
        "items = [{'color':'red', 'size':10}, {'color':'blue', 'size':3},\n",
        "         {'color':'green', 'size':15}, {'color':'yellow', 'size':6}]\n",
        "# Write code that prints the color of all items whose size\n",
        "# is greater than threshold 'low' and less than threshold 'high'\n",
        "# Note: In Python, use 'and' to combine conditions\n",
        "low = 5\n",
        "high = 11\n",
        "#YOUR CODE HERE - only three lines needed, make sure to test other thresholds\n",
        "for x in items:\n",
        "  if(x['size']> low and x['size']<high):\n",
        "    print(x['color'])\n",
        "\n",
        "\n"
      ]
    },
    {
      "cell_type": "markdown",
      "metadata": {
        "id": "Vk8pPqYsmoIu"
      },
      "source": [
        "### Additional Features - Mostly Just FYI"
      ]
    },
    {
      "cell_type": "markdown",
      "metadata": {
        "id": "byhZ-QjvmoIu"
      },
      "source": [
        "#### User input"
      ]
    },
    {
      "cell_type": "code",
      "execution_count": null,
      "metadata": {
        "id": "fDmEeneRmoIu",
        "colab": {
          "base_uri": "https://localhost:8080/"
        },
        "outputId": "23d7ff6a-3977-416b-b540-85d37b18a276"
      },
      "outputs": [
        {
          "output_type": "stream",
          "name": "stdout",
          "text": [
            "Enter value 1: 1\n",
            "Enter value 2: 2\n",
            "12\n"
          ]
        }
      ],
      "source": [
        "a = input('Enter value 1: ')\n",
        "b = input('Enter value 2: ')\n",
        "print(a + b)\n",
        "# Fix to do integer addition"
      ]
    },
    {
      "cell_type": "markdown",
      "metadata": {
        "id": "9OC4ni8nmoIv"
      },
      "source": [
        "#### While loops"
      ]
    },
    {
      "cell_type": "code",
      "execution_count": null,
      "metadata": {
        "id": "fssFKkRJmoIv",
        "colab": {
          "base_uri": "https://localhost:8080/"
        },
        "outputId": "6b4b9920-8ac0-45bc-e015-1fa117a50d9e"
      },
      "outputs": [
        {
          "output_type": "stream",
          "name": "stdout",
          "text": [
            "Enter any string, or \"quit\" to stop: string\n",
            "string\n",
            "Enter any string, or \"quit\" to stop: QUIT\n",
            "QUIT\n",
            "Enter any string, or \"quit\" to stop: quit\n",
            "Done\n"
          ]
        }
      ],
      "source": [
        "# Echo user input, 'quit' to end\n",
        "i = input('Enter any string, or \"quit\" to stop: ')\n",
        "while i != 'quit':\n",
        "    print(i)\n",
        "    i = input('Enter any string, or \"quit\" to stop: ')\n",
        "print('Done')\n",
        "# Change to while True and break"
      ]
    },
    {
      "cell_type": "code",
      "source": [
        "#while true and break go in pairs\n",
        "while True:\n",
        "  i = input('Enter a string or write quit: ')\n",
        "  if i == 'quit':\n",
        "    break\n",
        "  print(i)\n",
        "\n",
        "print('Done')\n",
        "\n",
        "\n",
        "\n",
        "print(i)"
      ],
      "metadata": {
        "colab": {
          "base_uri": "https://localhost:8080/"
        },
        "id": "oTNtWNI8TzIy",
        "outputId": "f4cf4ddd-e777-4835-8db4-9e16387b3cf4"
      },
      "execution_count": null,
      "outputs": [
        {
          "output_type": "stream",
          "name": "stdout",
          "text": [
            "Enter a string or write quit: hello\n",
            "hello\n",
            "Enter a string or write quit: quit\n",
            "Done\n",
            "quit\n"
          ]
        }
      ]
    },
    {
      "cell_type": "markdown",
      "metadata": {
        "id": "vhVmyfm3moIv"
      },
      "source": [
        "#### Infinite while loop"
      ]
    },
    {
      "cell_type": "code",
      "execution_count": null,
      "metadata": {
        "id": "a_-3odfWmoIv",
        "colab": {
          "base_uri": "https://localhost:8080/",
          "height": 356
        },
        "outputId": "5d08aa9f-cce4-4f2d-f54d-a09d6e8e9dea"
      },
      "outputs": [
        {
          "output_type": "error",
          "ename": "KeyboardInterrupt",
          "evalue": "Interrupted by user",
          "traceback": [
            "\u001b[0;31m---------------------------------------------------------------------------\u001b[0m",
            "\u001b[0;31mKeyboardInterrupt\u001b[0m                         Traceback (most recent call last)",
            "\u001b[0;32m<ipython-input-22-747f629213c1>\u001b[0m in \u001b[0;36m<cell line: 2>\u001b[0;34m()\u001b[0m\n\u001b[1;32m      1\u001b[0m \u001b[0;31m# Try not 'quit' then try 'quit', Runtime > interrupt\u001b[0m\u001b[0;34m\u001b[0m\u001b[0;34m\u001b[0m\u001b[0m\n\u001b[0;32m----> 2\u001b[0;31m \u001b[0mi\u001b[0m \u001b[0;34m=\u001b[0m \u001b[0minput\u001b[0m\u001b[0;34m(\u001b[0m\u001b[0;34m'Enter any string, or \"quit\" to stop: '\u001b[0m\u001b[0;34m)\u001b[0m\u001b[0;34m\u001b[0m\u001b[0;34m\u001b[0m\u001b[0m\n\u001b[0m\u001b[1;32m      3\u001b[0m \u001b[0;32mwhile\u001b[0m \u001b[0;32mTrue\u001b[0m\u001b[0;34m:\u001b[0m\u001b[0;34m\u001b[0m\u001b[0;34m\u001b[0m\u001b[0m\n\u001b[1;32m      4\u001b[0m     \u001b[0;32mif\u001b[0m \u001b[0mi\u001b[0m \u001b[0;34m==\u001b[0m \u001b[0;34m'quit'\u001b[0m\u001b[0;34m:\u001b[0m\u001b[0;34m\u001b[0m\u001b[0;34m\u001b[0m\u001b[0m\n\u001b[1;32m      5\u001b[0m       \u001b[0mprint\u001b[0m\u001b[0;34m(\u001b[0m\u001b[0mi\u001b[0m\u001b[0;34m)\u001b[0m\u001b[0;34m\u001b[0m\u001b[0;34m\u001b[0m\u001b[0m\n",
            "\u001b[0;32m/usr/local/lib/python3.10/dist-packages/ipykernel/kernelbase.py\u001b[0m in \u001b[0;36mraw_input\u001b[0;34m(self, prompt)\u001b[0m\n\u001b[1;32m    849\u001b[0m                 \u001b[0;34m\"raw_input was called, but this frontend does not support input requests.\"\u001b[0m\u001b[0;34m\u001b[0m\u001b[0;34m\u001b[0m\u001b[0m\n\u001b[1;32m    850\u001b[0m             )\n\u001b[0;32m--> 851\u001b[0;31m         return self._input_request(str(prompt),\n\u001b[0m\u001b[1;32m    852\u001b[0m             \u001b[0mself\u001b[0m\u001b[0;34m.\u001b[0m\u001b[0m_parent_ident\u001b[0m\u001b[0;34m,\u001b[0m\u001b[0;34m\u001b[0m\u001b[0;34m\u001b[0m\u001b[0m\n\u001b[1;32m    853\u001b[0m             \u001b[0mself\u001b[0m\u001b[0;34m.\u001b[0m\u001b[0m_parent_header\u001b[0m\u001b[0;34m,\u001b[0m\u001b[0;34m\u001b[0m\u001b[0;34m\u001b[0m\u001b[0m\n",
            "\u001b[0;32m/usr/local/lib/python3.10/dist-packages/ipykernel/kernelbase.py\u001b[0m in \u001b[0;36m_input_request\u001b[0;34m(self, prompt, ident, parent, password)\u001b[0m\n\u001b[1;32m    893\u001b[0m             \u001b[0;32mexcept\u001b[0m \u001b[0mKeyboardInterrupt\u001b[0m\u001b[0;34m:\u001b[0m\u001b[0;34m\u001b[0m\u001b[0;34m\u001b[0m\u001b[0m\n\u001b[1;32m    894\u001b[0m                 \u001b[0;31m# re-raise KeyboardInterrupt, to truncate traceback\u001b[0m\u001b[0;34m\u001b[0m\u001b[0;34m\u001b[0m\u001b[0m\n\u001b[0;32m--> 895\u001b[0;31m                 \u001b[0;32mraise\u001b[0m \u001b[0mKeyboardInterrupt\u001b[0m\u001b[0;34m(\u001b[0m\u001b[0;34m\"Interrupted by user\"\u001b[0m\u001b[0;34m)\u001b[0m \u001b[0;32mfrom\u001b[0m \u001b[0;32mNone\u001b[0m\u001b[0;34m\u001b[0m\u001b[0;34m\u001b[0m\u001b[0m\n\u001b[0m\u001b[1;32m    896\u001b[0m             \u001b[0;32mexcept\u001b[0m \u001b[0mException\u001b[0m \u001b[0;32mas\u001b[0m \u001b[0me\u001b[0m\u001b[0;34m:\u001b[0m\u001b[0;34m\u001b[0m\u001b[0;34m\u001b[0m\u001b[0m\n\u001b[1;32m    897\u001b[0m                 \u001b[0mself\u001b[0m\u001b[0;34m.\u001b[0m\u001b[0mlog\u001b[0m\u001b[0;34m.\u001b[0m\u001b[0mwarning\u001b[0m\u001b[0;34m(\u001b[0m\u001b[0;34m\"Invalid Message:\"\u001b[0m\u001b[0;34m,\u001b[0m \u001b[0mexc_info\u001b[0m\u001b[0;34m=\u001b[0m\u001b[0;32mTrue\u001b[0m\u001b[0;34m)\u001b[0m\u001b[0;34m\u001b[0m\u001b[0;34m\u001b[0m\u001b[0m\n",
            "\u001b[0;31mKeyboardInterrupt\u001b[0m: Interrupted by user"
          ]
        }
      ],
      "source": [
        "# Try not 'quit' then try 'quit', Runtime > interrupt\n",
        "i = input('Enter any string, or \"quit\" to stop: ')\n",
        "while True:\n",
        "    if i != 'quit':\n",
        "      print(i)\n",
        "print('Done')"
      ]
    },
    {
      "cell_type": "code",
      "source": [
        "# Try not 'quit' then try 'quit', Runtime > interrupt\n",
        "i = input('Enter any string, or \"quit\" to stop: ')\n",
        "while i=='quit':\n",
        "  print('Done')\n",
        "  break\n",
        "print(i)"
      ],
      "metadata": {
        "colab": {
          "base_uri": "https://localhost:8080/"
        },
        "id": "681dChaGVqoV",
        "outputId": "b506fe05-b072-4c13-8afd-896fe1444c50"
      },
      "execution_count": null,
      "outputs": [
        {
          "output_type": "stream",
          "name": "stdout",
          "text": [
            "Enter any string, or \"quit\" to stop: quit\n",
            "Done\n",
            "quit\n"
          ]
        }
      ]
    },
    {
      "cell_type": "markdown",
      "metadata": {
        "id": "6MijDGC4moIv"
      },
      "source": [
        "#### Functions"
      ]
    },
    {
      "cell_type": "code",
      "execution_count": null,
      "metadata": {
        "id": "NTZQJkhtmoIv"
      },
      "outputs": [],
      "source": [
        "# Create a function with no arguments or return value\n",
        "def simple():\n",
        "    print('This function has no arguments or return value')"
      ]
    },
    {
      "cell_type": "code",
      "execution_count": null,
      "metadata": {
        "id": "zXMMyLcHmoIw",
        "colab": {
          "base_uri": "https://localhost:8080/"
        },
        "outputId": "e9ac92d0-366f-4488-ef63-60f7973c98ed"
      },
      "outputs": [
        {
          "output_type": "stream",
          "name": "stdout",
          "text": [
            "This function has no arguments or return value\n",
            "This function has no arguments or return value\n",
            "This function has no arguments or return value\n",
            "This function has no arguments or return value\n",
            "This function has no arguments or return value\n"
          ]
        }
      ],
      "source": [
        "# Call the function five times\n",
        "for i in [1,2,3,4,5]:\n",
        "    simple()"
      ]
    },
    {
      "cell_type": "code",
      "execution_count": null,
      "metadata": {
        "id": "lxULIO1CmoIw"
      },
      "outputs": [],
      "source": [
        "# Create a function with arguments and a return value\n",
        "def addthem(a, b):\n",
        "    return a + b"
      ]
    },
    {
      "cell_type": "code",
      "execution_count": null,
      "metadata": {
        "id": "hPARiTbbmoIw",
        "colab": {
          "base_uri": "https://localhost:8080/"
        },
        "outputId": "9f2f98d9-a8a8-43bd-fdfc-d9d7eccc8179"
      },
      "outputs": [
        {
          "output_type": "stream",
          "name": "stdout",
          "text": [
            "1 2 3\n",
            "2 3 5\n",
            "3 4 7\n",
            "4 5 9\n",
            "5 6 11\n"
          ]
        }
      ],
      "source": [
        "# Call the function five times\n",
        "for i in [1,2,3,4,5]:\n",
        "    print(i, i+1, addthem(i,i+1))"
      ]
    }
  ],
  "metadata": {
    "kernelspec": {
      "display_name": "Python 3",
      "language": "python",
      "name": "python3"
    },
    "language_info": {
      "codemirror_mode": {
        "name": "ipython",
        "version": 3
      },
      "file_extension": ".py",
      "mimetype": "text/x-python",
      "name": "python",
      "nbconvert_exporter": "python",
      "pygments_lexer": "ipython3",
      "version": "3.7.6"
    },
    "colab": {
      "provenance": [],
      "collapsed_sections": [
        "byhZ-QjvmoIu",
        "9OC4ni8nmoIv",
        "vhVmyfm3moIv",
        "6DrlL_9TmoIv",
        "6MijDGC4moIv"
      ]
    }
  },
  "nbformat": 4,
  "nbformat_minor": 0
}