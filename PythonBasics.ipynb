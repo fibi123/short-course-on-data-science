{
  "cells": [
    {
      "cell_type": "markdown",
      "metadata": {
        "id": "ZccNy8KfmoIg"
      },
      "source": [
        "### **Python Basics**"
      ]
    },
    {
      "cell_type": "markdown",
      "metadata": {
        "id": "B0bdIFk4moIk"
      },
      "source": [
        "### Printing, Variables, Arithmetic"
      ]
    },
    {
      "cell_type": "code",
      "execution_count": null,
      "metadata": {
        "id": "SyPVFF8ImoIl"
      },
      "outputs": [],
      "source": [
        "# Print\n",
        "print('I already love Python')"
      ]
    },
    {
      "cell_type": "code",
      "execution_count": null,
      "metadata": {
        "id": "tLcjp9OGmoIm"
      },
      "outputs": [],
      "source": [
        "# Variables and assignment\n",
        "a = 10\n",
        "print(a)\n",
        "b = 5\n",
        "print(b)"
      ]
    },
    {
      "cell_type": "code",
      "execution_count": null,
      "metadata": {
        "id": "Wv91lvmUmoIm"
      },
      "outputs": [],
      "source": [
        "# Arithmetic\n",
        "# Note variable values persist from previous cell\n",
        "print(a + b)\n",
        "print(b - a)\n",
        "print(a * b)\n",
        "print(b / a)"
      ]
    },
    {
      "cell_type": "code",
      "execution_count": null,
      "metadata": {
        "id": "NbZw4iv8moIm"
      },
      "outputs": [],
      "source": [
        "# Update\n",
        "a = a + b\n",
        "print(a)"
      ]
    },
    {
      "cell_type": "code",
      "execution_count": null,
      "metadata": {
        "id": "3rJcJprsmoIn"
      },
      "outputs": [],
      "source": [
        "# Increment\n",
        "a += b\n",
        "print(a)"
      ]
    },
    {
      "cell_type": "markdown",
      "metadata": {
        "id": "WPKqfhtkmoIn"
      },
      "source": [
        "### Types"
      ]
    },
    {
      "cell_type": "code",
      "execution_count": null,
      "metadata": {
        "id": "-tTH-84ymoIo"
      },
      "outputs": [],
      "source": [
        "# Dynamically-inferred types\n",
        "a = 10\n",
        "print(type(a))\n",
        "a = '10'\n",
        "print(type(a))\n",
        "a = 10.0\n",
        "print(type(a))"
      ]
    },
    {
      "cell_type": "code",
      "execution_count": null,
      "metadata": {
        "id": "MU7PVxtnmoIo"
      },
      "outputs": [],
      "source": [
        "# Type-checking\n",
        "a = 10\n",
        "b = '5'\n",
        "print(a + b)"
      ]
    },
    {
      "cell_type": "code",
      "execution_count": null,
      "metadata": {
        "id": "cIxuGr23moIp"
      },
      "outputs": [],
      "source": [
        "# Manual type-conversion (string to int)\n",
        "a = 10\n",
        "b = '5'\n",
        "print(a + int(b))"
      ]
    },
    {
      "cell_type": "code",
      "execution_count": null,
      "metadata": {
        "id": "nUq9Bn9cmoIp"
      },
      "outputs": [],
      "source": [
        "# Automatic type-conversion (int to float)\n",
        "a = 10\n",
        "print(type(a))\n",
        "a += 5.0\n",
        "print(a, type(a))"
      ]
    },
    {
      "cell_type": "code",
      "execution_count": null,
      "metadata": {
        "id": "ahRVOgtPmoIp"
      },
      "outputs": [],
      "source": [
        "# String \"arithmetic\" (actually concatenation)\n",
        "a = 'Professor '\n",
        "b = 'Widom'\n",
        "print(a + b)"
      ]
    },
    {
      "cell_type": "markdown",
      "metadata": {
        "id": "qZF63pgemoIq"
      },
      "source": [
        "### Conditional (If) Statements"
      ]
    },
    {
      "cell_type": "code",
      "execution_count": null,
      "metadata": {
        "id": "hTyrmnPimoIq"
      },
      "outputs": [],
      "source": [
        "# If statements\n",
        "# Unlike other languages, indentation is significant\n",
        "a = 8\n",
        "if a > 10:\n",
        "    print(a, 'is greater than 10')\n",
        "    if a >= 15:\n",
        "        print(a, 'is also at least 15')\n",
        "elif a > 5:\n",
        "    print(a, 'is greater than 5 but not greater than 10')\n",
        "else:\n",
        "    print('no condition matched')\n",
        "    print('so a is 5 or less')"
      ]
    },
    {
      "cell_type": "markdown",
      "metadata": {
        "id": "7c8QCKpAmoIq"
      },
      "source": [
        "### <font color = 'green'>**Your Turn**</font>"
      ]
    },
    {
      "cell_type": "code",
      "execution_count": null,
      "metadata": {
        "id": "0mUlzLXymoIr"
      },
      "outputs": [],
      "source": [
        "# Write a program that starts with a number assigned to variable a.\n",
        "# If the square of that number is 100 or greater,\n",
        "# print the squared value and 'is big'.\n",
        "# Otherwise if the square is 50 or greater,\n",
        "# print the squared value 'is medium'.\n",
        "# Otherwise just print 'too small to bother with'.\n",
        "# Note: To obtain a value squared, use a*a or a**2\n",
        "# Make sure to try different values for a\n",
        "#\n",
        "YOUR CODE HERE"
      ]
    },
    {
      "cell_type": "markdown",
      "metadata": {
        "id": "ZTj0lnN-moIr"
      },
      "source": [
        "### Lists and For-Loops"
      ]
    },
    {
      "cell_type": "code",
      "execution_count": null,
      "metadata": {
        "id": "ZegOA-xwmoIr"
      },
      "outputs": [],
      "source": [
        "# List\n",
        "a = [2, 4, 7, 9]\n",
        "print(a)\n",
        "print(type(a))\n",
        "print(len(a))"
      ]
    },
    {
      "cell_type": "code",
      "execution_count": null,
      "metadata": {
        "id": "m7C2zmTAmoIr"
      },
      "outputs": [],
      "source": [
        "# Iterate through a list\n",
        "for x in a:\n",
        "    print(x, 2 * x)"
      ]
    },
    {
      "cell_type": "code",
      "execution_count": null,
      "metadata": {
        "id": "SXGIQMa9moIr"
      },
      "outputs": [],
      "source": [
        "# Access element by index (starts at zero)\n",
        "print(a[1])\n",
        "print(a[3])\n",
        "# Try a[5]"
      ]
    },
    {
      "cell_type": "code",
      "execution_count": null,
      "metadata": {
        "id": "ZzOb3bCXmoIs"
      },
      "outputs": [],
      "source": [
        "# Prefix, suffix, and section of list\n",
        "print(a[:2])\n",
        "print(a[1:])\n",
        "print(a[1:3])"
      ]
    },
    {
      "cell_type": "code",
      "execution_count": null,
      "metadata": {
        "id": "0HjM9gg-moIs"
      },
      "outputs": [],
      "source": [
        "# Append to list\n",
        "a.append(12)\n",
        "a.append(14)\n",
        "print(a)"
      ]
    },
    {
      "cell_type": "code",
      "execution_count": null,
      "metadata": {
        "id": "xmAUJBVRmoIs"
      },
      "outputs": [],
      "source": [
        "# Combine two lists\n",
        "a = a + [15, 20, 30]\n",
        "print(a)"
      ]
    },
    {
      "cell_type": "code",
      "execution_count": null,
      "metadata": {
        "id": "mv2m9zBnmoIs"
      },
      "outputs": [],
      "source": [
        "# List elements can be of different types\n",
        "a = [1, 'two', 3.0, [4,5,6]]\n",
        "print(a)\n",
        "print(type(a))\n",
        "print(type(a[0]), type(a[1]), type(a[2]), type (a[3]))"
      ]
    },
    {
      "cell_type": "markdown",
      "metadata": {
        "id": "eJXcVHICmoIs"
      },
      "source": [
        "### Dictionaries (key-value mappings)"
      ]
    },
    {
      "cell_type": "code",
      "execution_count": null,
      "metadata": {
        "id": "hj0EsT8bmoIt"
      },
      "outputs": [],
      "source": [
        "# Dictionary\n",
        "a = {'name': 'Mary', 'age': 20, 'gender': 'F'}\n",
        "print(a)\n",
        "print(type(a))"
      ]
    },
    {
      "cell_type": "code",
      "execution_count": null,
      "metadata": {
        "id": "0jlO6xl7moIt"
      },
      "outputs": [],
      "source": [
        "# Look up value of element by key - most important feature!\n",
        "print(a['age'])\n",
        "# also try a['gender'], a['salary']"
      ]
    },
    {
      "cell_type": "code",
      "execution_count": null,
      "metadata": {
        "id": "6jtbUNLImoIt"
      },
      "outputs": [],
      "source": [
        "# Modify value\n",
        "a['age'] = 21\n",
        "print(a)"
      ]
    },
    {
      "cell_type": "code",
      "source": [
        "# Add new key-value pair\n",
        "a['salary'] = 100\n",
        "print(a)"
      ],
      "metadata": {
        "id": "Dh22kjtf5rRD"
      },
      "execution_count": null,
      "outputs": []
    },
    {
      "cell_type": "code",
      "execution_count": null,
      "metadata": {
        "id": "KHMABIk1moIt"
      },
      "outputs": [],
      "source": [
        "# Iterating through a list of dictionaries\n",
        "dlist = [{'name':'Mary', 'age':20}, {'name':'John', 'age':30},\n",
        "         {'name':'Bill', 'age':10}, {'name':'Susan', 'age':40}]\n",
        "for x in dlist:\n",
        "    if x['age'] >= 30:\n",
        "        print(x['name'], 'is old')\n",
        "    if x['age'] < 20:\n",
        "        print(x['name'], 'is young')"
      ]
    },
    {
      "cell_type": "markdown",
      "metadata": {
        "id": "7uxBmG3imoIu"
      },
      "source": [
        "### <font color = 'green'>**Your Turn**</font>"
      ]
    },
    {
      "cell_type": "code",
      "execution_count": null,
      "metadata": {
        "id": "15wlVL-3moIu"
      },
      "outputs": [],
      "source": [
        "# Here is a dataset of four items, represented as a list of\n",
        "# dictionaries specifying each item's color and size\n",
        "items = [{'color':'red', 'size':10}, {'color':'blue', 'size':3},\n",
        "         {'color':'green', 'size':15}, {'color':'yellow', 'size':6}]\n",
        "# Write code that prints the color of all items whose size\n",
        "# is greater than threshold 'low' and less than threshold 'high'\n",
        "# Note: In Python, use 'and' to combine conditions\n",
        "low = 5\n",
        "high = 11\n",
        "YOUR CODE HERE - only three lines needed, make sure to test other thresholds"
      ]
    },
    {
      "cell_type": "markdown",
      "metadata": {
        "id": "Vk8pPqYsmoIu"
      },
      "source": [
        "### Additional Features - Mostly Just FYI"
      ]
    },
    {
      "cell_type": "markdown",
      "metadata": {
        "id": "byhZ-QjvmoIu"
      },
      "source": [
        "#### User input"
      ]
    },
    {
      "cell_type": "code",
      "execution_count": null,
      "metadata": {
        "id": "fDmEeneRmoIu"
      },
      "outputs": [],
      "source": [
        "a = input('Enter value 1: ')\n",
        "b = input('Enter value 2: ')\n",
        "print(a + b)\n",
        "# Fix to do integer addition"
      ]
    },
    {
      "cell_type": "markdown",
      "metadata": {
        "id": "9OC4ni8nmoIv"
      },
      "source": [
        "#### While loops"
      ]
    },
    {
      "cell_type": "code",
      "execution_count": null,
      "metadata": {
        "id": "fssFKkRJmoIv"
      },
      "outputs": [],
      "source": [
        "# Echo user input, 'quit' to end\n",
        "i = input('Enter any string, or \"quit\" to stop: ')\n",
        "while i != 'quit':\n",
        "    print(i)\n",
        "    i = input('Enter any string, or \"quit\" to stop: ')\n",
        "print('Done')\n",
        "# Change to while True and break"
      ]
    },
    {
      "cell_type": "markdown",
      "metadata": {
        "id": "vhVmyfm3moIv"
      },
      "source": [
        "#### Infinite while loop"
      ]
    },
    {
      "cell_type": "code",
      "execution_count": null,
      "metadata": {
        "id": "a_-3odfWmoIv"
      },
      "outputs": [],
      "source": [
        "# Try not 'quit' then try 'quit', Runtime > interrupt\n",
        "i = input('Enter any string, or \"quit\" to stop: ')\n",
        "while True:\n",
        "    if i != 'quit': print(i)\n",
        "print('Done')"
      ]
    },
    {
      "cell_type": "markdown",
      "metadata": {
        "id": "6MijDGC4moIv"
      },
      "source": [
        "#### Functions"
      ]
    },
    {
      "cell_type": "code",
      "execution_count": null,
      "metadata": {
        "id": "NTZQJkhtmoIv"
      },
      "outputs": [],
      "source": [
        "# Create a function with no arguments or return value\n",
        "def simple():\n",
        "    print('This function has no arguments or return value')"
      ]
    },
    {
      "cell_type": "code",
      "execution_count": null,
      "metadata": {
        "id": "zXMMyLcHmoIw"
      },
      "outputs": [],
      "source": [
        "# Call the function five times\n",
        "for i in [1,2,3,4,5]:\n",
        "    simple()"
      ]
    },
    {
      "cell_type": "code",
      "execution_count": null,
      "metadata": {
        "id": "lxULIO1CmoIw"
      },
      "outputs": [],
      "source": [
        "# Create a function with arguments and a return value\n",
        "def addthem(a, b):\n",
        "    return a + b"
      ]
    },
    {
      "cell_type": "code",
      "execution_count": null,
      "metadata": {
        "id": "hPARiTbbmoIw"
      },
      "outputs": [],
      "source": [
        "# Call the function five times\n",
        "for i in [1,2,3,4,5]:\n",
        "    print(i, i+1, addthem(i,i+1))"
      ]
    }
  ],
  "metadata": {
    "kernelspec": {
      "display_name": "Python 3",
      "language": "python",
      "name": "python3"
    },
    "language_info": {
      "codemirror_mode": {
        "name": "ipython",
        "version": 3
      },
      "file_extension": ".py",
      "mimetype": "text/x-python",
      "name": "python",
      "nbconvert_exporter": "python",
      "pygments_lexer": "ipython3",
      "version": "3.7.6"
    },
    "colab": {
      "provenance": [],
      "collapsed_sections": [
        "byhZ-QjvmoIu",
        "9OC4ni8nmoIv",
        "vhVmyfm3moIv",
        "6MijDGC4moIv"
      ]
    }
  },
  "nbformat": 4,
  "nbformat_minor": 0
}